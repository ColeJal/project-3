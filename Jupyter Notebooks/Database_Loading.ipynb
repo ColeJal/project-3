{
 "cells": [
  {
   "cell_type": "code",
   "execution_count": 1,
   "id": "e8494326",
   "metadata": {},
   "outputs": [],
   "source": [
    "import pandas as pd\n",
    "import sqlalchemy\n",
    "from sqlalchemy import create_engine\n",
    "from sqlalchemy.ext.automap import automap_base\n",
    "from sqlalchemy.orm import Session\n",
    "from config import (protocol,username,password,host,port,database_name)"
   ]
  },
  {
   "cell_type": "code",
   "execution_count": 17,
   "id": "c0fa75c8",
   "metadata": {},
   "outputs": [],
   "source": [
    "disasters=pd.read_csv('1950PresentData.csv')\n",
    "decade = pd.read_csv('decade_breakdown.csv')\n",
    "summary=pd.read_csv('1950PresentSummary.csv')"
   ]
  },
  {
   "cell_type": "code",
   "execution_count": 2,
   "id": "bb786097",
   "metadata": {},
   "outputs": [],
   "source": [
    "database_name = 'natural_disasters'\n",
    "rds_connection_string = f'{protocol}://{username}:{password}@{host}:{port}/{database_name}'\n",
    "engine = create_engine(rds_connection_string)"
   ]
  },
  {
   "cell_type": "code",
   "execution_count": 20,
   "id": "422473e7",
   "metadata": {},
   "outputs": [
    {
     "data": {
      "text/plain": [
       "228"
      ]
     },
     "execution_count": 20,
     "metadata": {},
     "output_type": "execute_result"
    }
   ],
   "source": [
    "summary.to_sql(name='larger_summary', con=engine, if_exists='append', index=False)"
   ]
  },
  {
   "cell_type": "code",
   "execution_count": 11,
   "id": "eae725ba",
   "metadata": {},
   "outputs": [
    {
     "data": {
      "text/plain": [
       "40"
      ]
     },
     "execution_count": 11,
     "metadata": {},
     "output_type": "execute_result"
    }
   ],
   "source": [
    "decade.to_sql(name='decade_breakdown', con=engine, if_exists='append', index=False)"
   ]
  },
  {
   "cell_type": "code",
   "execution_count": 14,
   "id": "3574d84e",
   "metadata": {},
   "outputs": [
    {
     "data": {
      "text/plain": [
       "832"
      ]
     },
     "execution_count": 14,
     "metadata": {},
     "output_type": "execute_result"
    }
   ],
   "source": [
    "disasters.to_sql(name='disasters', con=engine, if_exists='append', index=False)"
   ]
  },
  {
   "cell_type": "code",
   "execution_count": 18,
   "id": "d042efd1",
   "metadata": {},
   "outputs": [
    {
     "data": {
      "text/html": [
       "<div>\n",
       "<style scoped>\n",
       "    .dataframe tbody tr th:only-of-type {\n",
       "        vertical-align: middle;\n",
       "    }\n",
       "\n",
       "    .dataframe tbody tr th {\n",
       "        vertical-align: top;\n",
       "    }\n",
       "\n",
       "    .dataframe thead th {\n",
       "        text-align: right;\n",
       "    }\n",
       "</style>\n",
       "<table border=\"1\" class=\"dataframe\">\n",
       "  <thead>\n",
       "    <tr style=\"text-align: right;\">\n",
       "      <th></th>\n",
       "      <th>country</th>\n",
       "      <th>year</th>\n",
       "      <th>total_deaths</th>\n",
       "      <th>total_affected</th>\n",
       "      <th>total_damages_('000_us$)</th>\n",
       "      <th>total_occurences</th>\n",
       "      <th>iso</th>\n",
       "      <th>lat</th>\n",
       "      <th>lng</th>\n",
       "    </tr>\n",
       "  </thead>\n",
       "  <tbody>\n",
       "    <tr>\n",
       "      <th>0</th>\n",
       "      <td>Afghanistan</td>\n",
       "      <td>420889</td>\n",
       "      <td>26721</td>\n",
       "      <td>34815618</td>\n",
       "      <td>603320</td>\n",
       "      <td>210</td>\n",
       "      <td>AFG</td>\n",
       "      <td>33.939110</td>\n",
       "      <td>67.709953</td>\n",
       "    </tr>\n",
       "    <tr>\n",
       "      <th>1</th>\n",
       "      <td>Albania</td>\n",
       "      <td>76079</td>\n",
       "      <td>290</td>\n",
       "      <td>4384706</td>\n",
       "      <td>803573</td>\n",
       "      <td>38</td>\n",
       "      <td>ALB</td>\n",
       "      <td>41.153332</td>\n",
       "      <td>20.168331</td>\n",
       "    </tr>\n",
       "    <tr>\n",
       "      <th>2</th>\n",
       "      <td>Algeria</td>\n",
       "      <td>175703</td>\n",
       "      <td>8633</td>\n",
       "      <td>2507531</td>\n",
       "      <td>11814846</td>\n",
       "      <td>88</td>\n",
       "      <td>DZA</td>\n",
       "      <td>28.033886</td>\n",
       "      <td>1.659626</td>\n",
       "    </tr>\n",
       "    <tr>\n",
       "      <th>3</th>\n",
       "      <td>American Samoa</td>\n",
       "      <td>11976</td>\n",
       "      <td>130</td>\n",
       "      <td>25563</td>\n",
       "      <td>205000</td>\n",
       "      <td>6</td>\n",
       "      <td>ASM</td>\n",
       "      <td>-14.270972</td>\n",
       "      <td>-170.132217</td>\n",
       "    </tr>\n",
       "    <tr>\n",
       "      <th>4</th>\n",
       "      <td>Angola</td>\n",
       "      <td>148505</td>\n",
       "      <td>5983</td>\n",
       "      <td>8870587</td>\n",
       "      <td>12000</td>\n",
       "      <td>74</td>\n",
       "      <td>AGO</td>\n",
       "      <td>-11.202692</td>\n",
       "      <td>17.873887</td>\n",
       "    </tr>\n",
       "    <tr>\n",
       "      <th>...</th>\n",
       "      <td>...</td>\n",
       "      <td>...</td>\n",
       "      <td>...</td>\n",
       "      <td>...</td>\n",
       "      <td>...</td>\n",
       "      <td>...</td>\n",
       "      <td>...</td>\n",
       "      <td>...</td>\n",
       "      <td>...</td>\n",
       "    </tr>\n",
       "    <tr>\n",
       "      <th>223</th>\n",
       "      <td>Yemen Arab Rep</td>\n",
       "      <td>15826</td>\n",
       "      <td>1657</td>\n",
       "      <td>2624362</td>\n",
       "      <td>2022700</td>\n",
       "      <td>8</td>\n",
       "      <td>YMN</td>\n",
       "      <td>15.552727</td>\n",
       "      <td>48.516388</td>\n",
       "    </tr>\n",
       "    <tr>\n",
       "      <th>224</th>\n",
       "      <td>Yemen P Dem Rep</td>\n",
       "      <td>13857</td>\n",
       "      <td>507</td>\n",
       "      <td>705000</td>\n",
       "      <td>1040200</td>\n",
       "      <td>7</td>\n",
       "      <td>YMD</td>\n",
       "      <td>15.552727</td>\n",
       "      <td>48.516388</td>\n",
       "    </tr>\n",
       "    <tr>\n",
       "      <th>225</th>\n",
       "      <td>Yugoslavia</td>\n",
       "      <td>41537</td>\n",
       "      <td>1394</td>\n",
       "      <td>991330</td>\n",
       "      <td>3939800</td>\n",
       "      <td>21</td>\n",
       "      <td>YUG</td>\n",
       "      <td>42.783330</td>\n",
       "      <td>19.466665</td>\n",
       "    </tr>\n",
       "    <tr>\n",
       "      <th>226</th>\n",
       "      <td>Zambia</td>\n",
       "      <td>104156</td>\n",
       "      <td>1423</td>\n",
       "      <td>13153950</td>\n",
       "      <td>20900</td>\n",
       "      <td>52</td>\n",
       "      <td>ZMB</td>\n",
       "      <td>-13.133897</td>\n",
       "      <td>27.849332</td>\n",
       "    </tr>\n",
       "    <tr>\n",
       "      <th>227</th>\n",
       "      <td>Zimbabwe</td>\n",
       "      <td>108347</td>\n",
       "      <td>7604</td>\n",
       "      <td>27553177</td>\n",
       "      <td>1037700</td>\n",
       "      <td>54</td>\n",
       "      <td>ZWE</td>\n",
       "      <td>-19.015438</td>\n",
       "      <td>29.154857</td>\n",
       "    </tr>\n",
       "  </tbody>\n",
       "</table>\n",
       "<p>228 rows × 9 columns</p>\n",
       "</div>"
      ],
      "text/plain": [
       "             country    year  total_deaths  total_affected  \\\n",
       "0        Afghanistan  420889         26721        34815618   \n",
       "1            Albania   76079           290         4384706   \n",
       "2            Algeria  175703          8633         2507531   \n",
       "3     American Samoa   11976           130           25563   \n",
       "4             Angola  148505          5983         8870587   \n",
       "..               ...     ...           ...             ...   \n",
       "223   Yemen Arab Rep   15826          1657         2624362   \n",
       "224  Yemen P Dem Rep   13857           507          705000   \n",
       "225       Yugoslavia   41537          1394          991330   \n",
       "226           Zambia  104156          1423        13153950   \n",
       "227         Zimbabwe  108347          7604        27553177   \n",
       "\n",
       "     total_damages_('000_us$)  total_occurences  iso        lat         lng  \n",
       "0                      603320               210  AFG  33.939110   67.709953  \n",
       "1                      803573                38  ALB  41.153332   20.168331  \n",
       "2                    11814846                88  DZA  28.033886    1.659626  \n",
       "3                      205000                 6  ASM -14.270972 -170.132217  \n",
       "4                       12000                74  AGO -11.202692   17.873887  \n",
       "..                        ...               ...  ...        ...         ...  \n",
       "223                   2022700                 8  YMN  15.552727   48.516388  \n",
       "224                   1040200                 7  YMD  15.552727   48.516388  \n",
       "225                   3939800                21  YUG  42.783330   19.466665  \n",
       "226                     20900                52  ZMB -13.133897   27.849332  \n",
       "227                   1037700                54  ZWE -19.015438   29.154857  \n",
       "\n",
       "[228 rows x 9 columns]"
      ]
     },
     "execution_count": 18,
     "metadata": {},
     "output_type": "execute_result"
    }
   ],
   "source": [
    "summary"
   ]
  },
  {
   "cell_type": "code",
   "execution_count": 3,
   "id": "a4c673cc",
   "metadata": {},
   "outputs": [],
   "source": [
    "continent_breakdown=pd.read_csv('continent_breakdown.csv')\n",
    "continent_decade = pd.read_csv('continent_decade.csv')"
   ]
  },
  {
   "cell_type": "code",
   "execution_count": 4,
   "id": "44c7f7c4",
   "metadata": {},
   "outputs": [
    {
     "data": {
      "text/plain": [
       "60"
      ]
     },
     "execution_count": 4,
     "metadata": {},
     "output_type": "execute_result"
    }
   ],
   "source": [
    "continent_breakdown.to_sql(name='continent_breakdown', con=engine, if_exists='append', index=False)"
   ]
  },
  {
   "cell_type": "code",
   "execution_count": 5,
   "id": "5ca27c93",
   "metadata": {},
   "outputs": [
    {
     "data": {
      "text/plain": [
       "40"
      ]
     },
     "execution_count": 5,
     "metadata": {},
     "output_type": "execute_result"
    }
   ],
   "source": [
    "continent_decade.to_sql(name='continent_decade', con=engine, if_exists='append', index=False)"
   ]
  },
  {
   "cell_type": "code",
   "execution_count": 2,
   "id": "99abd55a",
   "metadata": {},
   "outputs": [
    {
     "data": {
      "text/html": [
       "<div>\n",
       "<style scoped>\n",
       "    .dataframe tbody tr th:only-of-type {\n",
       "        vertical-align: middle;\n",
       "    }\n",
       "\n",
       "    .dataframe tbody tr th {\n",
       "        vertical-align: top;\n",
       "    }\n",
       "\n",
       "    .dataframe thead th {\n",
       "        text-align: right;\n",
       "    }\n",
       "</style>\n",
       "<table border=\"1\" class=\"dataframe\">\n",
       "  <thead>\n",
       "    <tr style=\"text-align: right;\">\n",
       "      <th></th>\n",
       "      <th>dis_no</th>\n",
       "      <th>year</th>\n",
       "      <th>disaster_subgroup</th>\n",
       "      <th>disaster_type</th>\n",
       "      <th>disaster_subtype</th>\n",
       "      <th>country</th>\n",
       "      <th>iso</th>\n",
       "      <th>region</th>\n",
       "      <th>continent</th>\n",
       "      <th>location</th>\n",
       "      <th>...</th>\n",
       "      <th>end_year</th>\n",
       "      <th>end_month</th>\n",
       "      <th>end_day</th>\n",
       "      <th>total_deaths</th>\n",
       "      <th>total_affected</th>\n",
       "      <th>total_damages</th>\n",
       "      <th>start_date</th>\n",
       "      <th>end_date</th>\n",
       "      <th>lat</th>\n",
       "      <th>lng</th>\n",
       "    </tr>\n",
       "  </thead>\n",
       "  <tbody>\n",
       "    <tr>\n",
       "      <th>0</th>\n",
       "      <td>1950-0008-IND</td>\n",
       "      <td>1950</td>\n",
       "      <td>Geophysical</td>\n",
       "      <td>Earthquake</td>\n",
       "      <td>Ground movement</td>\n",
       "      <td>India</td>\n",
       "      <td>IND</td>\n",
       "      <td>Southern Asia</td>\n",
       "      <td>Asia</td>\n",
       "      <td>Assam province</td>\n",
       "      <td>...</td>\n",
       "      <td>1950</td>\n",
       "      <td>8</td>\n",
       "      <td>2</td>\n",
       "      <td>1500</td>\n",
       "      <td>0</td>\n",
       "      <td>20000</td>\n",
       "      <td>8/2/1950</td>\n",
       "      <td>8/2/1950</td>\n",
       "      <td>20.593684</td>\n",
       "      <td>78.962880</td>\n",
       "    </tr>\n",
       "    <tr>\n",
       "      <th>1</th>\n",
       "      <td>1950-0006-IND</td>\n",
       "      <td>1950</td>\n",
       "      <td>Hydrological</td>\n",
       "      <td>Flood</td>\n",
       "      <td>Riverine flood</td>\n",
       "      <td>India</td>\n",
       "      <td>IND</td>\n",
       "      <td>Southern Asia</td>\n",
       "      <td>Asia</td>\n",
       "      <td>Saurashtra</td>\n",
       "      <td>...</td>\n",
       "      <td>1950</td>\n",
       "      <td>7</td>\n",
       "      <td>1</td>\n",
       "      <td>45</td>\n",
       "      <td>25000</td>\n",
       "      <td>0</td>\n",
       "      <td>7/1/1950</td>\n",
       "      <td>7/1/1950</td>\n",
       "      <td>20.593684</td>\n",
       "      <td>78.962880</td>\n",
       "    </tr>\n",
       "    <tr>\n",
       "      <th>2</th>\n",
       "      <td>1950-0011-IND</td>\n",
       "      <td>1950</td>\n",
       "      <td>Meteorological</td>\n",
       "      <td>Storm</td>\n",
       "      <td>0</td>\n",
       "      <td>India</td>\n",
       "      <td>IND</td>\n",
       "      <td>Southern Asia</td>\n",
       "      <td>Asia</td>\n",
       "      <td>West</td>\n",
       "      <td>...</td>\n",
       "      <td>1950</td>\n",
       "      <td>9</td>\n",
       "      <td>1</td>\n",
       "      <td>90</td>\n",
       "      <td>0</td>\n",
       "      <td>0</td>\n",
       "      <td>9/1/1950</td>\n",
       "      <td>9/1/1950</td>\n",
       "      <td>20.593684</td>\n",
       "      <td>78.962880</td>\n",
       "    </tr>\n",
       "    <tr>\n",
       "      <th>3</th>\n",
       "      <td>1950-0026-IND</td>\n",
       "      <td>1950</td>\n",
       "      <td>Hydrological</td>\n",
       "      <td>Flood</td>\n",
       "      <td>0</td>\n",
       "      <td>India</td>\n",
       "      <td>IND</td>\n",
       "      <td>Southern Asia</td>\n",
       "      <td>Asia</td>\n",
       "      <td>0</td>\n",
       "      <td>...</td>\n",
       "      <td>1950</td>\n",
       "      <td>6</td>\n",
       "      <td>1</td>\n",
       "      <td>100</td>\n",
       "      <td>0</td>\n",
       "      <td>0</td>\n",
       "      <td>6/1/1950</td>\n",
       "      <td>6/1/1950</td>\n",
       "      <td>20.593684</td>\n",
       "      <td>78.962880</td>\n",
       "    </tr>\n",
       "    <tr>\n",
       "      <th>4</th>\n",
       "      <td>1952-0011-IND</td>\n",
       "      <td>1952</td>\n",
       "      <td>Meteorological</td>\n",
       "      <td>Storm</td>\n",
       "      <td>Tropical cyclone</td>\n",
       "      <td>India</td>\n",
       "      <td>IND</td>\n",
       "      <td>Southern Asia</td>\n",
       "      <td>Asia</td>\n",
       "      <td>Tanjore, Tiruchi</td>\n",
       "      <td>...</td>\n",
       "      <td>1952</td>\n",
       "      <td>1</td>\n",
       "      <td>3</td>\n",
       "      <td>400</td>\n",
       "      <td>1000000</td>\n",
       "      <td>0</td>\n",
       "      <td>1/3/1952</td>\n",
       "      <td>1/3/1952</td>\n",
       "      <td>20.593684</td>\n",
       "      <td>78.962880</td>\n",
       "    </tr>\n",
       "    <tr>\n",
       "      <th>...</th>\n",
       "      <td>...</td>\n",
       "      <td>...</td>\n",
       "      <td>...</td>\n",
       "      <td>...</td>\n",
       "      <td>...</td>\n",
       "      <td>...</td>\n",
       "      <td>...</td>\n",
       "      <td>...</td>\n",
       "      <td>...</td>\n",
       "      <td>...</td>\n",
       "      <td>...</td>\n",
       "      <td>...</td>\n",
       "      <td>...</td>\n",
       "      <td>...</td>\n",
       "      <td>...</td>\n",
       "      <td>...</td>\n",
       "      <td>...</td>\n",
       "      <td>...</td>\n",
       "      <td>...</td>\n",
       "      <td>...</td>\n",
       "      <td>...</td>\n",
       "    </tr>\n",
       "    <tr>\n",
       "      <th>15827</th>\n",
       "      <td>2018-0390-QAT</td>\n",
       "      <td>2018</td>\n",
       "      <td>Hydrological</td>\n",
       "      <td>Flood</td>\n",
       "      <td>Flash flood</td>\n",
       "      <td>Qatar</td>\n",
       "      <td>QAT</td>\n",
       "      <td>Western Asia</td>\n",
       "      <td>Asia</td>\n",
       "      <td>Doha</td>\n",
       "      <td>...</td>\n",
       "      <td>2018</td>\n",
       "      <td>1</td>\n",
       "      <td>2</td>\n",
       "      <td>0</td>\n",
       "      <td>1500</td>\n",
       "      <td>10000</td>\n",
       "      <td>1/2/2018</td>\n",
       "      <td>1/2/2018</td>\n",
       "      <td>25.354826</td>\n",
       "      <td>51.183884</td>\n",
       "    </tr>\n",
       "    <tr>\n",
       "      <th>15828</th>\n",
       "      <td>2017-0381-BLM</td>\n",
       "      <td>2017</td>\n",
       "      <td>Meteorological</td>\n",
       "      <td>Storm</td>\n",
       "      <td>Tropical cyclone</td>\n",
       "      <td>Saint Barthélemy</td>\n",
       "      <td>BLM</td>\n",
       "      <td>Caribbean</td>\n",
       "      <td>Americas</td>\n",
       "      <td>0</td>\n",
       "      <td>...</td>\n",
       "      <td>2017</td>\n",
       "      <td>9</td>\n",
       "      <td>9</td>\n",
       "      <td>4</td>\n",
       "      <td>0</td>\n",
       "      <td>0</td>\n",
       "      <td>9/8/2017</td>\n",
       "      <td>9/9/2017</td>\n",
       "      <td>17.900000</td>\n",
       "      <td>-62.833333</td>\n",
       "    </tr>\n",
       "    <tr>\n",
       "      <th>15829</th>\n",
       "      <td>2017-0381-MAF</td>\n",
       "      <td>2017</td>\n",
       "      <td>Meteorological</td>\n",
       "      <td>Storm</td>\n",
       "      <td>Tropical cyclone</td>\n",
       "      <td>Saint Martin (French Part)</td>\n",
       "      <td>MAF</td>\n",
       "      <td>Caribbean</td>\n",
       "      <td>Americas</td>\n",
       "      <td>0</td>\n",
       "      <td>...</td>\n",
       "      <td>2017</td>\n",
       "      <td>9</td>\n",
       "      <td>9</td>\n",
       "      <td>12</td>\n",
       "      <td>110</td>\n",
       "      <td>4100000</td>\n",
       "      <td>9/8/2017</td>\n",
       "      <td>9/9/2017</td>\n",
       "      <td>18.082550</td>\n",
       "      <td>-63.052251</td>\n",
       "    </tr>\n",
       "    <tr>\n",
       "      <th>15830</th>\n",
       "      <td>2017-0381-SXM</td>\n",
       "      <td>2017</td>\n",
       "      <td>Meteorological</td>\n",
       "      <td>Storm</td>\n",
       "      <td>Tropical cyclone</td>\n",
       "      <td>Sint Maarten (Dutch part)</td>\n",
       "      <td>SXM</td>\n",
       "      <td>Caribbean</td>\n",
       "      <td>Americas</td>\n",
       "      <td>0</td>\n",
       "      <td>...</td>\n",
       "      <td>2017</td>\n",
       "      <td>9</td>\n",
       "      <td>9</td>\n",
       "      <td>4</td>\n",
       "      <td>5040</td>\n",
       "      <td>2500000</td>\n",
       "      <td>9/8/2017</td>\n",
       "      <td>9/9/2017</td>\n",
       "      <td>18.042480</td>\n",
       "      <td>-63.054830</td>\n",
       "    </tr>\n",
       "    <tr>\n",
       "      <th>15831</th>\n",
       "      <td>2020-0051-IMN</td>\n",
       "      <td>2020</td>\n",
       "      <td>Meteorological</td>\n",
       "      <td>Storm</td>\n",
       "      <td>Extra-tropical storm</td>\n",
       "      <td>Isle of Man</td>\n",
       "      <td>IMN</td>\n",
       "      <td>Northern Europe</td>\n",
       "      <td>Europe</td>\n",
       "      <td>0</td>\n",
       "      <td>...</td>\n",
       "      <td>2021</td>\n",
       "      <td>5</td>\n",
       "      <td>2</td>\n",
       "      <td>0</td>\n",
       "      <td>0</td>\n",
       "      <td>0</td>\n",
       "      <td>5/2/2021</td>\n",
       "      <td>5/2/2021</td>\n",
       "      <td>54.236107</td>\n",
       "      <td>-4.548056</td>\n",
       "    </tr>\n",
       "  </tbody>\n",
       "</table>\n",
       "<p>15832 rows × 23 columns</p>\n",
       "</div>"
      ],
      "text/plain": [
       "              dis_no  year disaster_subgroup disaster_type  \\\n",
       "0      1950-0008-IND  1950       Geophysical    Earthquake   \n",
       "1      1950-0006-IND  1950      Hydrological         Flood   \n",
       "2      1950-0011-IND  1950    Meteorological         Storm   \n",
       "3      1950-0026-IND  1950      Hydrological         Flood   \n",
       "4      1952-0011-IND  1952    Meteorological         Storm   \n",
       "...              ...   ...               ...           ...   \n",
       "15827  2018-0390-QAT  2018      Hydrological         Flood   \n",
       "15828  2017-0381-BLM  2017    Meteorological         Storm   \n",
       "15829  2017-0381-MAF  2017    Meteorological         Storm   \n",
       "15830  2017-0381-SXM  2017    Meteorological         Storm   \n",
       "15831  2020-0051-IMN  2020    Meteorological         Storm   \n",
       "\n",
       "           disaster_subtype                     country  iso           region  \\\n",
       "0           Ground movement                       India  IND    Southern Asia   \n",
       "1            Riverine flood                       India  IND    Southern Asia   \n",
       "2                         0                       India  IND    Southern Asia   \n",
       "3                         0                       India  IND    Southern Asia   \n",
       "4          Tropical cyclone                       India  IND    Southern Asia   \n",
       "...                     ...                         ...  ...              ...   \n",
       "15827           Flash flood                       Qatar  QAT     Western Asia   \n",
       "15828      Tropical cyclone            Saint Barthélemy  BLM        Caribbean   \n",
       "15829      Tropical cyclone  Saint Martin (French Part)  MAF        Caribbean   \n",
       "15830      Tropical cyclone   Sint Maarten (Dutch part)  SXM        Caribbean   \n",
       "15831  Extra-tropical storm                 Isle of Man  IMN  Northern Europe   \n",
       "\n",
       "      continent          location  ...  end_year  end_month  end_day  \\\n",
       "0          Asia    Assam province  ...      1950          8        2   \n",
       "1          Asia        Saurashtra  ...      1950          7        1   \n",
       "2          Asia              West  ...      1950          9        1   \n",
       "3          Asia                 0  ...      1950          6        1   \n",
       "4          Asia  Tanjore, Tiruchi  ...      1952          1        3   \n",
       "...         ...               ...  ...       ...        ...      ...   \n",
       "15827      Asia              Doha  ...      2018          1        2   \n",
       "15828  Americas                 0  ...      2017          9        9   \n",
       "15829  Americas                 0  ...      2017          9        9   \n",
       "15830  Americas                 0  ...      2017          9        9   \n",
       "15831    Europe                 0  ...      2021          5        2   \n",
       "\n",
       "       total_deaths  total_affected  total_damages  start_date  end_date  \\\n",
       "0              1500               0          20000    8/2/1950  8/2/1950   \n",
       "1                45           25000              0    7/1/1950  7/1/1950   \n",
       "2                90               0              0    9/1/1950  9/1/1950   \n",
       "3               100               0              0    6/1/1950  6/1/1950   \n",
       "4               400         1000000              0    1/3/1952  1/3/1952   \n",
       "...             ...             ...            ...         ...       ...   \n",
       "15827             0            1500          10000    1/2/2018  1/2/2018   \n",
       "15828             4               0              0    9/8/2017  9/9/2017   \n",
       "15829            12             110        4100000    9/8/2017  9/9/2017   \n",
       "15830             4            5040        2500000    9/8/2017  9/9/2017   \n",
       "15831             0               0              0    5/2/2021  5/2/2021   \n",
       "\n",
       "             lat        lng  \n",
       "0      20.593684  78.962880  \n",
       "1      20.593684  78.962880  \n",
       "2      20.593684  78.962880  \n",
       "3      20.593684  78.962880  \n",
       "4      20.593684  78.962880  \n",
       "...          ...        ...  \n",
       "15827  25.354826  51.183884  \n",
       "15828  17.900000 -62.833333  \n",
       "15829  18.082550 -63.052251  \n",
       "15830  18.042480 -63.054830  \n",
       "15831  54.236107  -4.548056  \n",
       "\n",
       "[15832 rows x 23 columns]"
      ]
     },
     "execution_count": 2,
     "metadata": {},
     "output_type": "execute_result"
    }
   ],
   "source": [
    "disasters=pd.read_csv('1950PresentData.csv')\n",
    "disasters"
   ]
  },
  {
   "cell_type": "code",
   "execution_count": 4,
   "id": "d9ac9e6b",
   "metadata": {},
   "outputs": [
    {
     "data": {
      "text/plain": [
       "832"
      ]
     },
     "execution_count": 4,
     "metadata": {},
     "output_type": "execute_result"
    }
   ],
   "source": [
    "disasters.to_sql(name='disasters', con=engine, if_exists='append', index=False)"
   ]
  },
  {
   "cell_type": "code",
   "execution_count": 5,
   "id": "ca95ac87",
   "metadata": {},
   "outputs": [],
   "source": [
    "bytype=pd.read_csv('type_breakdown.csv')"
   ]
  },
  {
   "cell_type": "code",
   "execution_count": 8,
   "id": "2daac204",
   "metadata": {},
   "outputs": [
    {
     "data": {
      "text/plain": [
       "178"
      ]
     },
     "execution_count": 8,
     "metadata": {},
     "output_type": "execute_result"
    }
   ],
   "source": [
    "bytype.to_sql(name='type_breakdown', con=engine, if_exists='append', index=False)"
   ]
  },
  {
   "cell_type": "code",
   "execution_count": 3,
   "id": "3bd52d7c",
   "metadata": {},
   "outputs": [
    {
     "data": {
      "text/plain": [
       "73"
      ]
     },
     "execution_count": 3,
     "metadata": {},
     "output_type": "execute_result"
    }
   ],
   "source": [
    "disaster_deaths=pd.read_csv('disaster_deaths.csv')\n",
    "disaster_deaths.to_sql(name='deaths', con=engine, if_exists='append', index=False)"
   ]
  },
  {
   "cell_type": "code",
   "execution_count": 3,
   "id": "87ad9f4c",
   "metadata": {},
   "outputs": [
    {
     "data": {
      "text/plain": [
       "282"
      ]
     },
     "execution_count": 3,
     "metadata": {},
     "output_type": "execute_result"
    }
   ],
   "source": [
    "income_summary=pd.read_csv('income_summary.csv')\n",
    "income_summary.to_sql(name='income_summary', con=engine, if_exists='append', index=False)"
   ]
  },
  {
   "cell_type": "code",
   "execution_count": 4,
   "id": "865c9f05",
   "metadata": {},
   "outputs": [
    {
     "data": {
      "text/plain": [
       "32"
      ]
     },
     "execution_count": 4,
     "metadata": {},
     "output_type": "execute_result"
    }
   ],
   "source": [
    "income_decade=pd.read_csv('income_decade.csv')\n",
    "income_decade.to_sql(name='income_decade', con=engine, if_exists='append', index=False)"
   ]
  },
  {
   "cell_type": "code",
   "execution_count": 5,
   "id": "bb6862b4",
   "metadata": {},
   "outputs": [
    {
     "data": {
      "text/plain": [
       "192"
      ]
     },
     "execution_count": 5,
     "metadata": {},
     "output_type": "execute_result"
    }
   ],
   "source": [
    "country_summary=pd.read_csv('country_summary.csv')\n",
    "country_summary.to_sql(name='country_summary', con=engine, if_exists='append', index=False)"
   ]
  },
  {
   "cell_type": "code",
   "execution_count": 6,
   "id": "a9194581",
   "metadata": {},
   "outputs": [
    {
     "data": {
      "text/plain": [
       "178"
      ]
     },
     "execution_count": 6,
     "metadata": {},
     "output_type": "execute_result"
    }
   ],
   "source": [
    "country_breakdown=pd.read_csv('country_breakdown.csv')\n",
    "country_breakdown.to_sql(name='country_breakdown', con=engine, if_exists='append', index=False)"
   ]
  },
  {
   "cell_type": "code",
   "execution_count": 7,
   "id": "2ad5c5c9",
   "metadata": {},
   "outputs": [
    {
     "data": {
      "text/plain": [
       "683"
      ]
     },
     "execution_count": 7,
     "metadata": {},
     "output_type": "execute_result"
    }
   ],
   "source": [
    "country_yearly=pd.read_csv('country_yearly.csv')\n",
    "country_yearly.to_sql(name='country_yearly', con=engine, if_exists='append', index=False)"
   ]
  },
  {
   "cell_type": "code",
   "execution_count": 8,
   "id": "c25bef6c",
   "metadata": {},
   "outputs": [
    {
     "data": {
      "text/plain": [
       "73"
      ]
     },
     "execution_count": 8,
     "metadata": {},
     "output_type": "execute_result"
    }
   ],
   "source": [
    "temperature_change=pd.read_csv('temperature_change.csv')\n",
    "temperature_change.to_sql(name='temp_change', con=engine, if_exists='append', index=False)"
   ]
  },
  {
   "cell_type": "code",
   "execution_count": null,
   "id": "83b04e8a",
   "metadata": {},
   "outputs": [],
   "source": []
  }
 ],
 "metadata": {
  "kernelspec": {
   "display_name": "Python 3 (ipykernel)",
   "language": "python",
   "name": "python3"
  },
  "language_info": {
   "codemirror_mode": {
    "name": "ipython",
    "version": 3
   },
   "file_extension": ".py",
   "mimetype": "text/x-python",
   "name": "python",
   "nbconvert_exporter": "python",
   "pygments_lexer": "ipython3",
   "version": "3.9.12"
  }
 },
 "nbformat": 4,
 "nbformat_minor": 5
}
